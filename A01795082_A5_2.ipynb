{
  "nbformat": 4,
  "nbformat_minor": 0,
  "metadata": {
    "colab": {
      "provenance": []
    },
    "kernelspec": {
      "name": "python3",
      "display_name": "Python 3"
    },
    "language_info": {
      "name": "python"
    }
  },
  "cells": [
    {
      "cell_type": "markdown",
      "source": [
        "**MAESTRÍA EN INTELIGENCIA ARTIFICIAL APLICADA**\n",
        "\n",
        "**Curso: TC4017 - Pruebas de software y aseguramiento de la calidad**\n",
        "\n",
        "Tecnológico de Monterrey\n",
        "\n",
        "Dr. Gerardo Padilla Zárate\n",
        "\n",
        "Mtra. María Mylen Treviño E.\n",
        "\n",
        "**Actividad 5.2 Ejercicio de programación 2 y análisis estático**\n",
        "\n",
        "---"
      ],
      "metadata": {
        "id": "bxtQvKL8MaUn"
      }
    },
    {
      "cell_type": "markdown",
      "source": [
        "NOMBRE: Osvaldo Sánchez Ramírez\n",
        "MATRÍCULA: A01795082"
      ],
      "metadata": {
        "id": "aX88hsBqM8zc"
      }
    },
    {
      "cell_type": "markdown",
      "source": [
        "---"
      ],
      "metadata": {
        "id": "peNvxcWRM9gV"
      }
    },
    {
      "cell_type": "markdown",
      "source": [
        "Este Jupyter Notebook presenta un análisis de ventas utilizando datos en formato JSON.\n",
        "Se carga un catálogo de precios y registros de ventas para calcular el total de ingresos.\n",
        "\n",
        "\n",
        "**Objetivo del Código**\n",
        "*   Leer un catálogo de productos con sus respectivos precios.\n",
        "*   Procesar registros de ventas y calcular el costo total de cada archivo.\n",
        "*   Imprimir los resultados en pantalla sin modificar archivos.\n",
        "*   Seguir buenas prácticas de codificación utilizando flake8 y pylint."
      ],
      "metadata": {
        "id": "HW8ISGnqKjyZ"
      }
    },
    {
      "cell_type": "markdown",
      "source": [
        "Correremos el primer código sin corregir:"
      ],
      "metadata": {
        "id": "b619_FwNLRLD"
      }
    },
    {
      "cell_type": "code",
      "source": [
        "import json\n",
        "import time\n",
        "\n",
        "def load_price_catalogue(file_path):\n",
        "    \"\"\"Carga el catálogo de precios desde un archivo JSON.\"\"\"\n",
        "    try:\n",
        "        with open(file_path, \"r\", encoding=\"utf-8\") as file:\n",
        "            products = json.load(file)\n",
        "            return {item[\"title\"]: item[\"price\"] for item in products}\n",
        "    except Exception as e:\n",
        "        print(f\"Error al leer {file_path}: {e}\")\n",
        "        return None\n",
        "\n",
        "def calculate_total_sales(price_catalogue, sales_file):\n",
        "    \"\"\"Calcula el costo total de ventas basado en el catálogo de precios.\"\"\"\n",
        "    total_sales = 0.0\n",
        "    try:\n",
        "        with open(sales_file, \"r\", encoding=\"utf-8\") as file:\n",
        "            sales = json.load(file)\n",
        "            for sale in sales:\n",
        "                product = sale[\"Product\"]\n",
        "                quantity = sale[\"Quantity\"]\n",
        "                if product in price_catalogue:\n",
        "                    total_sales += price_catalogue[product] * quantity\n",
        "                else:\n",
        "                    print(f\"Advertencia: Producto no encontrado en el catálogo - {product}\")\n",
        "    except Exception as e:\n",
        "        print(f\"Error al procesar {sales_file}: {e}\")\n",
        "    return total_sales\n",
        "\n",
        "def main():\n",
        "    \"\"\"Función principal que coordina la ejecución.\"\"\"\n",
        "    start_time = time.time()\n",
        "\n",
        "    # Definiendo la ruta del catálogo de precios\n",
        "    price_catalogue_path = \"/content/sample_data/TC1.ProductList.json\"\n",
        "\n",
        "    # Definiendo las rutas de los archivos de ventas\n",
        "    sales_files = {\n",
        "        \"TC1\": \"/content/sample_data/TC1.Sales.json\",\n",
        "        \"TC2\": \"/content/sample_data/TC2.Sales.json\",\n",
        "        \"TC3\": \"/content/sample_data/TC3.Sales.json\"\n",
        "    }\n",
        "\n",
        "    # Carga del catálogo de precios\n",
        "    price_catalogue = load_price_catalogue(price_catalogue_path)\n",
        "    if price_catalogue is None:\n",
        "        return\n",
        "\n",
        "    # Procesar cada archivo de ventas\n",
        "    print(\"TOTAL\")\n",
        "    for test_case, sales_file in sales_files.items():\n",
        "        total_sales = calculate_total_sales(price_catalogue, sales_file)\n",
        "        print(f\"{test_case}\\t{total_sales:.2f}\")\n",
        "\n",
        "    end_time = time.time()\n",
        "    print(f\"Tiempo de ejecución: {end_time - start_time:.6f} segundos\")\n",
        "\n",
        "if __name__ == \"__main__\":\n",
        "    main()\n"
      ],
      "metadata": {
        "colab": {
          "base_uri": "https://localhost:8080/"
        },
        "id": "7Ikntwkbzoli",
        "outputId": "29cc560d-df04-4832-f50e-7686b665ea85"
      },
      "execution_count": 1,
      "outputs": [
        {
          "output_type": "stream",
          "name": "stdout",
          "text": [
            "TOTAL\n",
            "TC1\t2481.86\n",
            "TC2\t166568.23\n",
            "Advertencia: Producto no encontrado en el catálogo - Elotes\n",
            "Advertencia: Producto no encontrado en el catálogo - Frijoles\n",
            "TC3\t165235.37\n",
            "Tiempo de ejecución: 0.002556 segundos\n"
          ]
        }
      ]
    },
    {
      "cell_type": "markdown",
      "source": [
        "Para verificar que el código cumple con estas reglas, ejecutamos el siguiente comando:"
      ],
      "metadata": {
        "id": "hlyCjT2xLYGv"
      }
    },
    {
      "cell_type": "code",
      "source": [
        "!pip install flake8\n"
      ],
      "metadata": {
        "colab": {
          "base_uri": "https://localhost:8080/"
        },
        "id": "EkBb6NsZ0Pjx",
        "outputId": "972225b2-cdf3-412b-c61e-58c0bebca521"
      },
      "execution_count": 2,
      "outputs": [
        {
          "output_type": "stream",
          "name": "stdout",
          "text": [
            "Requirement already satisfied: flake8 in /usr/local/lib/python3.11/dist-packages (7.1.1)\n",
            "Requirement already satisfied: mccabe<0.8.0,>=0.7.0 in /usr/local/lib/python3.11/dist-packages (from flake8) (0.7.0)\n",
            "Requirement already satisfied: pycodestyle<2.13.0,>=2.12.0 in /usr/local/lib/python3.11/dist-packages (from flake8) (2.12.1)\n",
            "Requirement already satisfied: pyflakes<3.3.0,>=3.2.0 in /usr/local/lib/python3.11/dist-packages (from flake8) (3.2.0)\n"
          ]
        }
      ]
    },
    {
      "cell_type": "markdown",
      "source": [
        "Identificamos los errores señalados y los corregimos en el codigo fuente:"
      ],
      "metadata": {
        "id": "E77KWxq_MAqH"
      }
    },
    {
      "cell_type": "code",
      "source": [
        "!flake8 /content/sample_data/computesales.py"
      ],
      "metadata": {
        "colab": {
          "base_uri": "https://localhost:8080/"
        },
        "id": "yzEuHef30Uao",
        "outputId": "c8b638ff-c658-4d00-efa6-c3b059fef318"
      },
      "execution_count": 3,
      "outputs": [
        {
          "output_type": "stream",
          "name": "stdout",
          "text": [
            "\u001b[1m/content/sample_data/computesales.py\u001b[m\u001b[36m:\u001b[m13\u001b[36m:\u001b[m1\u001b[36m:\u001b[m \u001b[1m\u001b[31mE302\u001b[m expected 2 blank lines, found 1\n",
            "\u001b[1m/content/sample_data/computesales.py\u001b[m\u001b[36m:\u001b[m23\u001b[36m:\u001b[m1\u001b[36m:\u001b[m \u001b[1m\u001b[31mE302\u001b[m expected 2 blank lines, found 1\n",
            "\u001b[1m/content/sample_data/computesales.py\u001b[m\u001b[36m:\u001b[m35\u001b[36m:\u001b[m80\u001b[36m:\u001b[m \u001b[1m\u001b[31mE501\u001b[m line too long (92 > 79 characters)\n",
            "\u001b[1m/content/sample_data/computesales.py\u001b[m\u001b[36m:\u001b[m40\u001b[36m:\u001b[m1\u001b[36m:\u001b[m \u001b[1m\u001b[31mE302\u001b[m expected 2 blank lines, found 1\n",
            "\u001b[1m/content/sample_data/computesales.py\u001b[m\u001b[36m:\u001b[m68\u001b[36m:\u001b[m1\u001b[36m:\u001b[m \u001b[1m\u001b[31mE305\u001b[m expected 2 blank lines after class or function definition, found 1\n",
            "\u001b[1m/content/sample_data/computesales.py\u001b[m\u001b[36m:\u001b[m69\u001b[36m:\u001b[m11\u001b[36m:\u001b[m \u001b[1m\u001b[31mW292\u001b[m no newline at end of file\n"
          ]
        }
      ]
    },
    {
      "cell_type": "markdown",
      "source": [
        "Verificamos ahora co pylint:"
      ],
      "metadata": {
        "id": "MhpxLhUsMGeU"
      }
    },
    {
      "cell_type": "code",
      "source": [
        "!pip install pylint"
      ],
      "metadata": {
        "colab": {
          "base_uri": "https://localhost:8080/"
        },
        "id": "lOLTQcTh2DtR",
        "outputId": "fff203c7-8101-4b40-de2e-72f6aa12dbcd"
      },
      "execution_count": 4,
      "outputs": [
        {
          "output_type": "stream",
          "name": "stdout",
          "text": [
            "Requirement already satisfied: pylint in /usr/local/lib/python3.11/dist-packages (3.3.4)\n",
            "Requirement already satisfied: dill>=0.3.6 in /usr/local/lib/python3.11/dist-packages (from pylint) (0.3.9)\n",
            "Requirement already satisfied: platformdirs>=2.2.0 in /usr/local/lib/python3.11/dist-packages (from pylint) (4.3.6)\n",
            "Requirement already satisfied: astroid<=3.4.0-dev0,>=3.3.8 in /usr/local/lib/python3.11/dist-packages (from pylint) (3.3.8)\n",
            "Requirement already satisfied: isort!=5.13.0,<7,>=4.2.5 in /usr/local/lib/python3.11/dist-packages (from pylint) (6.0.0)\n",
            "Requirement already satisfied: mccabe<0.8,>=0.6 in /usr/local/lib/python3.11/dist-packages (from pylint) (0.7.0)\n",
            "Requirement already satisfied: tomlkit>=0.10.1 in /usr/local/lib/python3.11/dist-packages (from pylint) (0.13.2)\n"
          ]
        }
      ]
    },
    {
      "cell_type": "markdown",
      "source": [
        "Identificamos los errores para corregirlos:"
      ],
      "metadata": {
        "id": "_gHxNA0iMJOI"
      }
    },
    {
      "cell_type": "code",
      "source": [
        "!pylint /content/sample_data/computesales.py"
      ],
      "metadata": {
        "colab": {
          "base_uri": "https://localhost:8080/"
        },
        "id": "PliPf7vj1PyJ",
        "outputId": "96b5cc96-de26-4a8b-d3a9-ba3a8b2487ca"
      },
      "execution_count": 5,
      "outputs": [
        {
          "output_type": "stream",
          "name": "stdout",
          "text": [
            "************* Module computesales\n",
            "sample_data/computesales.py:69:0: C0304: Final newline missing (missing-final-newline)\n",
            "sample_data/computesales.py:19:11: W0718: Catching too general exception Exception (broad-exception-caught)\n",
            "sample_data/computesales.py:36:11: W0718: Catching too general exception Exception (broad-exception-caught)\n",
            "\n",
            "------------------------------------------------------------------\n",
            "Your code has been rated at 9.23/10 (previous run: 9.23/10, +0.00)\n",
            "\n"
          ]
        }
      ]
    },
    {
      "cell_type": "markdown",
      "source": [
        "Ahora corremos el codigo corregido:"
      ],
      "metadata": {
        "id": "89q0JBDYHDVL"
      }
    },
    {
      "cell_type": "code",
      "source": [
        "import json\n",
        "import time\n",
        "\n",
        "\n",
        "def load_price_catalogue(file_path):\n",
        "    \"\"\"Carga el catálogo de precios desde un archivo JSON.\"\"\"\n",
        "    try:\n",
        "        with open(file_path, \"r\", encoding=\"utf-8\") as file:\n",
        "            products = json.load(file)\n",
        "            return {item[\"title\"]: item[\"price\"] for item in products}\n",
        "    except (OSError, json.JSONDecodeError) as error:\n",
        "        print(f\"Error al leer {file_path}: {error}\")\n",
        "        return None\n",
        "\n",
        "\n",
        "def calculate_total_sales(price_catalogue, sales_file):\n",
        "    \"\"\"Calcula el costo total de ventas basado en el catálogo de precios.\"\"\"\n",
        "    total_sales = 0.0\n",
        "    try:\n",
        "        with open(sales_file, \"r\", encoding=\"utf-8\") as file:\n",
        "            sales = json.load(file)\n",
        "            for sale in sales:\n",
        "                product = sale[\"Product\"]\n",
        "                quantity = sale[\"Quantity\"]\n",
        "                if product in price_catalogue:\n",
        "                    total_sales += price_catalogue[product] * quantity\n",
        "                else:\n",
        "                    print(\n",
        "                        f\"Advertencia: Producto no encontrado en catálogo - {product}\"\n",
        "                    )\n",
        "    except (OSError, json.JSONDecodeError) as error:\n",
        "        print(f\"Error al procesar {sales_file}: {error}\")\n",
        "    return total_sales\n",
        "\n",
        "\n",
        "def main():\n",
        "    \"\"\"Función principal que coordina la ejecución.\"\"\"\n",
        "    start_time = time.time()\n",
        "\n",
        "    # Definiendo la ruta del catálogo de precios\n",
        "    price_catalogue_path = \"/content/sample_data/TC1.ProductList.json\"\n",
        "\n",
        "    # Definiendo las rutas de los archivos de ventas\n",
        "    sales_files = {\n",
        "        \"TC1\": \"/content/sample_data/TC1.Sales.json\",\n",
        "        \"TC2\": \"/content/sample_data/TC2.Sales.json\",\n",
        "        \"TC3\": \"/content/sample_data/TC3.Sales.json\",\n",
        "    }\n",
        "\n",
        "    # Carga del catálogo de precios\n",
        "    price_catalogue = load_price_catalogue(price_catalogue_path)\n",
        "    if price_catalogue is None:\n",
        "        return\n",
        "\n",
        "    # Procesar cada archivo de ventas\n",
        "    print(\"TOTAL\")\n",
        "    for test_case, sales_file in sales_files.items():\n",
        "        total_sales = calculate_total_sales(price_catalogue, sales_file)\n",
        "        print(f\"{test_case}\\t{total_sales:.2f}\")\n",
        "\n",
        "    end_time = time.time()\n",
        "    print(f\"Tiempo de ejecución: {end_time - start_time:.6f} segundos\")\n",
        "\n",
        "\n",
        "if __name__ == \"__main__\":\n",
        "    main()\n"
      ],
      "metadata": {
        "colab": {
          "base_uri": "https://localhost:8080/"
        },
        "id": "miwF4XpXHFsZ",
        "outputId": "a7fa8c6c-bba5-40e3-b31d-4746eda2b803"
      },
      "execution_count": 6,
      "outputs": [
        {
          "output_type": "stream",
          "name": "stdout",
          "text": [
            "TOTAL\n",
            "TC1\t2481.86\n",
            "TC2\t166568.23\n",
            "Advertencia: Producto no encontrado en catálogo - Elotes\n",
            "Advertencia: Producto no encontrado en catálogo - Frijoles\n",
            "TC3\t165235.37\n",
            "Tiempo de ejecución: 0.006756 segundos\n"
          ]
        }
      ]
    },
    {
      "cell_type": "markdown",
      "source": [
        "Corremos el comando flake 8 y pylint para verficar que nuestros erores han sido corregidos:"
      ],
      "metadata": {
        "id": "cNLoJi3NMOYg"
      }
    },
    {
      "cell_type": "code",
      "source": [
        "!flake8 /content/sample_data/compute_sales.py"
      ],
      "metadata": {
        "id": "iNmTSQoqHJ1Z"
      },
      "execution_count": 7,
      "outputs": []
    },
    {
      "cell_type": "code",
      "source": [
        "!pylint /content/sample_data/compute_sales.py\n"
      ],
      "metadata": {
        "colab": {
          "base_uri": "https://localhost:8080/"
        },
        "id": "enFbIN_rHNed",
        "outputId": "9a726db9-57e3-4191-8058-5630ac9eb405"
      },
      "execution_count": 8,
      "outputs": [
        {
          "output_type": "stream",
          "name": "stdout",
          "text": [
            "\n",
            "--------------------------------------------------------------------\n",
            "Your code has been rated at 10.00/10 (previous run: 10.00/10, +0.00)\n",
            "\n"
          ]
        }
      ]
    },
    {
      "cell_type": "markdown",
      "source": [
        "Hemos obtenido 0 errores y una calificacion de 10/10"
      ],
      "metadata": {
        "id": "-rSFwbg_MWQa"
      }
    }
  ]
}